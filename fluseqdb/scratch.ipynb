{
 "cells": [
  {
   "cell_type": "code",
   "execution_count": 2,
   "metadata": {},
   "outputs": [],
   "source": [
    "import re"
   ]
  },
  {
   "cell_type": "code",
   "execution_count": 26,
   "metadata": {},
   "outputs": [
    {
     "data": {
      "text/plain": [
       "{'isolate_id': 'EPI_ISL_19241249',\n",
       " 'dna_insdc': '',\n",
       " 'segment': 'NA',\n",
       " 'segment_number': '6',\n",
       " 'isolate_name': 'A/dairy_cow/Colorado/24_017152-008/2024',\n",
       " 'type': 'A_/_H5N1',\n",
       " 'collection_date': '2024-06-11',\n",
       " 'identifier': 'A/dairy_cow/Colorado/24_017152-008/2024_NA',\n",
       " 'dna_accession': 'EPI3418974',\n",
       " 'clade': '2.3.4.4b',\n",
       " 'passage': 'Original'}"
      ]
     },
     "execution_count": 26,
     "metadata": {},
     "output_type": "execute_result"
    }
   ],
   "source": [
    "with open(\"/Users/pattinson/djpiri/content/Phylogeny/cow-flu/db/entries/2024-10-03-gisaid/header_pattern.txt\") as fobj:\n",
    "    pattern = \"\".join(line.strip() for line in fobj.readlines())\n",
    "\n",
    "\n",
    "\n",
    "desc = \"EPI_ISL_19241249||NA|6|A/dairy_cow/Colorado/24_017152-008/2024|A_/_H5N1|2024-06-11|A/dairy_cow/Colorado/24_017152-008/2024_NA|EPI3418974|2.3.4.4b|Original|\"\n",
    "\n",
    "re.match(pattern, string=desc).groupdict()"
   ]
  },
  {
   "cell_type": "code",
   "execution_count": 17,
   "metadata": {},
   "outputs": [
    {
     "data": {
      "text/plain": [
       "{'isolate_id': 'EPI_ISL_19241249', 'dna_insdc': 'abcd'}"
      ]
     },
     "execution_count": 17,
     "metadata": {},
     "output_type": "execute_result"
    }
   ],
   "source": [
    "pattern = r\"(?P<isolate_id>\\w*)\\|(?P<dna_insdc>\\w*)\"\n",
    "\n",
    "desc = \"EPI_ISL_19241249|abcd\"\n",
    "\n",
    "re.match(pattern, string=desc).groupdict()"
   ]
  },
  {
   "cell_type": "code",
   "execution_count": 27,
   "metadata": {},
   "outputs": [],
   "source": [
    "from Bio.Align import PairwiseAligner"
   ]
  },
  {
   "cell_type": "code",
   "execution_count": 28,
   "metadata": {},
   "outputs": [],
   "source": [
    "aligner = PairwiseAligner()"
   ]
  },
  {
   "cell_type": "code",
   "execution_count": 30,
   "metadata": {},
   "outputs": [
    {
     "data": {
      "text/plain": [
       "0.0"
      ]
     },
     "execution_count": 30,
     "metadata": {},
     "output_type": "execute_result"
    }
   ],
   "source": [
    "aligner.target_internal_open_gap_score"
   ]
  },
  {
   "cell_type": "code",
   "execution_count": null,
   "metadata": {},
   "outputs": [],
   "source": []
  }
 ],
 "metadata": {
  "kernelspec": {
   "display_name": "cow-virus-env",
   "language": "python",
   "name": "python3"
  },
  "language_info": {
   "codemirror_mode": {
    "name": "ipython",
    "version": 3
   },
   "file_extension": ".py",
   "mimetype": "text/x-python",
   "name": "python",
   "nbconvert_exporter": "python",
   "pygments_lexer": "ipython3",
   "version": "3.10.4"
  }
 },
 "nbformat": 4,
 "nbformat_minor": 2
}
